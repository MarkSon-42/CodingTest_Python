{
 "cells": [
  {
   "cell_type": "code",
   "execution_count": null,
   "metadata": {
    "collapsed": true
   },
   "outputs": [],
   "source": [
    "# 계단 개수, 계단 리스트 입력\n",
    "# dp 배열 초기화\n",
    "# 계단이 _개 이하이면 ___해서 출력\n",
    "# 계단이 _개 이상일때\n",
    "# _개 계단까지 수동 계산 ( 초기값 )\n",
    "# _번째 계단부터 dp점화식 이용해서 최대값 구하기"
   ]
  }
 ],
 "metadata": {
  "kernelspec": {
   "display_name": "Python 3",
   "language": "python",
   "name": "python3"
  },
  "language_info": {
   "codemirror_mode": {
    "name": "ipython",
    "version": 2
   },
   "file_extension": ".py",
   "mimetype": "text/x-python",
   "name": "python",
   "nbconvert_exporter": "python",
   "pygments_lexer": "ipython2",
   "version": "2.7.6"
  }
 },
 "nbformat": 4,
 "nbformat_minor": 0
}
